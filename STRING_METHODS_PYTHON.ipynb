{
  "nbformat": 4,
  "nbformat_minor": 0,
  "metadata": {
    "colab": {
      "provenance": [],
      "authorship_tag": "ABX9TyO+wRYvWh+McC1yHHj91GNX",
      "include_colab_link": true
    },
    "kernelspec": {
      "name": "python3",
      "display_name": "Python 3"
    },
    "language_info": {
      "name": "python"
    }
  },
  "cells": [
    {
      "cell_type": "markdown",
      "metadata": {
        "id": "view-in-github",
        "colab_type": "text"
      },
      "source": [
        "<a href=\"https://colab.research.google.com/github/kvishalya72/python/blob/main/STRING_METHODS_PYTHON.ipynb\" target=\"_parent\"><img src=\"https://colab.research.google.com/assets/colab-badge.svg\" alt=\"Open In Colab\"/></a>"
      ]
    },
    {
      "cell_type": "code",
      "execution_count": null,
      "metadata": {
        "colab": {
          "base_uri": "https://localhost:8080/"
        },
        "id": "FBG3JDh03hHH",
        "outputId": "42a53f21-e58c-438f-e066-625027258a5e"
      },
      "outputs": [
        {
          "output_type": "stream",
          "name": "stdout",
          "text": [
            "Vishalya\n"
          ]
        }
      ],
      "source": [
        "a=\"vishalya\"\n",
        "b=a.capitalize()\n",
        "print(b)"
      ]
    },
    {
      "cell_type": "code",
      "source": [
        "a=\"VishAlya IS VerY GOOd girL\"\n",
        "b=a.casefold()\n",
        "print(b)"
      ],
      "metadata": {
        "colab": {
          "base_uri": "https://localhost:8080/"
        },
        "id": "wM1KBKXY42Ho",
        "outputId": "ab973e35-caeb-4e2e-980e-ab610a8282e5"
      },
      "execution_count": null,
      "outputs": [
        {
          "output_type": "stream",
          "name": "stdout",
          "text": [
            "vishalya is very good girl\n"
          ]
        }
      ]
    },
    {
      "cell_type": "code",
      "source": [
        "a=\"vishalya is a very good girl\"\n",
        "b=a.count(\"vishalya\")\n",
        "print(b)"
      ],
      "metadata": {
        "colab": {
          "base_uri": "https://localhost:8080/"
        },
        "id": "dhJaCRvm5V6z",
        "outputId": "cc602e72-3f4b-4e48-bae7-983303603652"
      },
      "execution_count": null,
      "outputs": [
        {
          "output_type": "stream",
          "name": "stdout",
          "text": [
            "1\n"
          ]
        }
      ]
    },
    {
      "cell_type": "code",
      "source": [
        "a=\"vishalya is a very good girl.\"\n",
        "b=a.endswith(\".\")\n",
        "print(b)"
      ],
      "metadata": {
        "colab": {
          "base_uri": "https://localhost:8080/"
        },
        "id": "s_ue6FTB6Ez2",
        "outputId": "892f99e6-97b3-40be-dad7-1d3b35f14785"
      },
      "execution_count": null,
      "outputs": [
        {
          "output_type": "stream",
          "name": "stdout",
          "text": [
            "True\n"
          ]
        }
      ]
    },
    {
      "cell_type": "code",
      "source": [
        "a=\"vishalya is a very good girl\"\n",
        "b=a.find(\"very\")\n",
        "print(b)"
      ],
      "metadata": {
        "colab": {
          "base_uri": "https://localhost:8080/"
        },
        "id": "rwxJl0hP6kki",
        "outputId": "0bd0b7b6-3407-40ce-abf5-3a3ca5f927db"
      },
      "execution_count": null,
      "outputs": [
        {
          "output_type": "stream",
          "name": "stdout",
          "text": [
            "14\n"
          ]
        }
      ]
    },
    {
      "cell_type": "code",
      "source": [
        "a=\"vishalya is a very good girl\"\n",
        "b=a.index(\"very\")\n",
        "print(b)"
      ],
      "metadata": {
        "colab": {
          "base_uri": "https://localhost:8080/"
        },
        "outputId": "04a92836-802f-47b9-b69d-03b7de02d54d",
        "id": "iyUfFY5H7L8d"
      },
      "execution_count": null,
      "outputs": [
        {
          "output_type": "stream",
          "name": "stdout",
          "text": [
            "14\n"
          ]
        }
      ]
    },
    {
      "cell_type": "code",
      "source": [
        "a=\"vishalya721412\"\n",
        "b=a.isalnum()\n",
        "print(b)"
      ],
      "metadata": {
        "colab": {
          "base_uri": "https://localhost:8080/"
        },
        "outputId": "474d5fb4-38c0-4af3-9ba5-416a5d5e751e",
        "id": "9K2U3OOL7caj"
      },
      "execution_count": null,
      "outputs": [
        {
          "output_type": "stream",
          "name": "stdout",
          "text": [
            "True\n"
          ]
        }
      ]
    },
    {
      "cell_type": "code",
      "source": [
        "a=\"vishalya\"\n",
        "b=a.isalpha()\n",
        "print(b)"
      ],
      "metadata": {
        "colab": {
          "base_uri": "https://localhost:8080/"
        },
        "outputId": "a9184af3-9265-464b-842d-19012b181dd6",
        "id": "lLufqUq374pB"
      },
      "execution_count": null,
      "outputs": [
        {
          "output_type": "stream",
          "name": "stdout",
          "text": [
            "True\n"
          ]
        }
      ]
    },
    {
      "cell_type": "code",
      "source": [
        "a=\"vishalya\"\n",
        "b=a.islower()\n",
        "print(b)"
      ],
      "metadata": {
        "colab": {
          "base_uri": "https://localhost:8080/"
        },
        "outputId": "e545b7d8-d924-41bf-83f3-8c6de27a3236",
        "id": "wM9eWRTO8Jiu"
      },
      "execution_count": null,
      "outputs": [
        {
          "output_type": "stream",
          "name": "stdout",
          "text": [
            "True\n"
          ]
        }
      ]
    },
    {
      "cell_type": "code",
      "source": [
        "a=\"872142\"\n",
        "b=a.isnumeric()\n",
        "print(b)"
      ],
      "metadata": {
        "colab": {
          "base_uri": "https://localhost:8080/"
        },
        "outputId": "1db536ca-bb73-4096-bc24-5f3fca433df2",
        "id": "VsX6znko8eiR"
      },
      "execution_count": null,
      "outputs": [
        {
          "output_type": "stream",
          "name": "stdout",
          "text": [
            "True\n"
          ]
        }
      ]
    },
    {
      "cell_type": "code",
      "source": [
        "a=\"VISHALYA\"\n",
        "b=a.isupper()\n",
        "print(b)"
      ],
      "metadata": {
        "colab": {
          "base_uri": "https://localhost:8080/"
        },
        "outputId": "7dba4e02-f2dd-4035-c2e3-f86f8a316668",
        "id": "OXHZzrM48pNj"
      },
      "execution_count": null,
      "outputs": [
        {
          "output_type": "stream",
          "name": "stdout",
          "text": [
            "True\n"
          ]
        }
      ]
    },
    {
      "cell_type": "code",
      "source": [
        "a=\"vishalya\"\n",
        "b=a.ljust(10)\n",
        "print(b,\"is a good girl.\")"
      ],
      "metadata": {
        "colab": {
          "base_uri": "https://localhost:8080/"
        },
        "outputId": "382dea2d-5aa5-407d-c440-b8680a3851f8",
        "id": "kZbQSQn78562"
      },
      "execution_count": null,
      "outputs": [
        {
          "output_type": "stream",
          "name": "stdout",
          "text": [
            "vishalya   is a good girl.\n"
          ]
        }
      ]
    },
    {
      "cell_type": "code",
      "source": [
        "a=\"VISHALYA\"\n",
        "b=a.lower()\n",
        "print(b)"
      ],
      "metadata": {
        "colab": {
          "base_uri": "https://localhost:8080/"
        },
        "outputId": "21389bd2-7aac-40eb-cd7a-6ad980bb8ffa",
        "id": "WaoTDcmT97nP"
      },
      "execution_count": null,
      "outputs": [
        {
          "output_type": "stream",
          "name": "stdout",
          "text": [
            "vishalya\n"
          ]
        }
      ]
    },
    {
      "cell_type": "code",
      "source": [
        "a=\"     is a good girl     \"\n",
        "b=a.lstrip()\n",
        "print(\"vishalya\",a)la=\"     is a good girl     \"\n",
        "b=a.lstrip()\n",
        "print(\"vishalya\",a)"
      ],
      "metadata": {
        "colab": {
          "base_uri": "https://localhost:8080/"
        },
        "outputId": "799df238-dde1-4cd6-b632-eeaba14269b8",
        "id": "kDPWw1SP-Hj-"
      },
      "execution_count": null,
      "outputs": [
        {
          "output_type": "stream",
          "name": "stdout",
          "text": [
            "vishalya      is a good girl     \n"
          ]
        }
      ]
    },
    {
      "cell_type": "code",
      "source": [
        "a=\"vishalya is a good girl\"\n",
        "b=a.rfind(\"good\")\n",
        "print(b)"
      ],
      "metadata": {
        "colab": {
          "base_uri": "https://localhost:8080/"
        },
        "id": "z9KxwfmfK0D7",
        "outputId": "8e8f76c4-a3e9-4197-a131-cd2b7202e86d"
      },
      "execution_count": null,
      "outputs": [
        {
          "output_type": "stream",
          "name": "stdout",
          "text": [
            "14\n"
          ]
        }
      ]
    },
    {
      "cell_type": "code",
      "source": [
        "a=\"vishalya is a good girl\"\n",
        "b=a.rindex(\"good\")\n",
        "print(b)"
      ],
      "metadata": {
        "colab": {
          "base_uri": "https://localhost:8080/"
        },
        "id": "5BUHYyIaLVId",
        "outputId": "2345de17-2bdb-42c7-da93-ca1f492adee6"
      },
      "execution_count": null,
      "outputs": [
        {
          "output_type": "stream",
          "name": "stdout",
          "text": [
            "14\n"
          ]
        }
      ]
    },
    {
      "cell_type": "code",
      "source": [
        "a=\"vishalya\"\n",
        "b=a.lstrip()\n",
        "print(a,\"is a good girl\")"
      ],
      "metadata": {
        "colab": {
          "base_uri": "https://localhost:8080/"
        },
        "id": "tpOK6WNZLyxo",
        "outputId": "c5155f4b-8806-4709-d061-cfa6c20d161b"
      },
      "execution_count": null,
      "outputs": [
        {
          "output_type": "stream",
          "name": "stdout",
          "text": [
            "vishalya is a good girl\n"
          ]
        }
      ]
    },
    {
      "cell_type": "code",
      "source": [
        "a=\"vishalya\"\n",
        "b=a.strip()\n",
        "print(a,\"is a good girl\")"
      ],
      "metadata": {
        "colab": {
          "base_uri": "https://localhost:8080/"
        },
        "id": "tV1sU-CDMNR1",
        "outputId": "3c87d92e-8c5b-4c60-a005-a4206990df5f"
      },
      "execution_count": null,
      "outputs": [
        {
          "output_type": "stream",
          "name": "stdout",
          "text": [
            "vishalya is a good girl\n"
          ]
        }
      ]
    },
    {
      "cell_type": "code",
      "source": [
        "a=\"Vishalya Is A Good Girl\"\n",
        "b=a.swapcase()\n",
        "print(b)"
      ],
      "metadata": {
        "colab": {
          "base_uri": "https://localhost:8080/"
        },
        "id": "8f9cPKwwMhhz",
        "outputId": "187105d6-c851-4543-fc18-998bdfbba049"
      },
      "execution_count": null,
      "outputs": [
        {
          "output_type": "stream",
          "name": "stdout",
          "text": [
            "vISHALYA iS a gOOD gIRL\n"
          ]
        }
      ]
    },
    {
      "cell_type": "code",
      "source": [
        "a=\"vishalya\"\n",
        "b=a.title()\n",
        "print(b)"
      ],
      "metadata": {
        "colab": {
          "base_uri": "https://localhost:8080/"
        },
        "id": "gerEiqpJM31i",
        "outputId": "18dcfe59-09ba-47c9-d499-d7061067a27c"
      },
      "execution_count": null,
      "outputs": [
        {
          "output_type": "stream",
          "name": "stdout",
          "text": [
            "Vishalya\n"
          ]
        }
      ]
    },
    {
      "cell_type": "code",
      "source": [
        "a=\"vishalya\"\n",
        "b=a.upper()\n",
        "print(b)"
      ],
      "metadata": {
        "colab": {
          "base_uri": "https://localhost:8080/"
        },
        "id": "dHBoRxJvNIDj",
        "outputId": "961c2732-b0e8-43b5-9265-dc157ec9232a"
      },
      "execution_count": null,
      "outputs": [
        {
          "output_type": "stream",
          "name": "stdout",
          "text": [
            "VISHALYA\n"
          ]
        }
      ]
    }
  ]
}