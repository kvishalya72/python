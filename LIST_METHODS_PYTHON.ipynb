{
  "nbformat": 4,
  "nbformat_minor": 0,
  "metadata": {
    "colab": {
      "provenance": [],
      "authorship_tag": "ABX9TyNiNbUssBjPoyMtgmV+3eYu",
      "include_colab_link": true
    },
    "kernelspec": {
      "name": "python3",
      "display_name": "Python 3"
    },
    "language_info": {
      "name": "python"
    }
  },
  "cells": [
    {
      "cell_type": "markdown",
      "metadata": {
        "id": "view-in-github",
        "colab_type": "text"
      },
      "source": [
        "<a href=\"https://colab.research.google.com/github/kvishalya72/python/blob/main/LIST_METHODS_PYTHON.ipynb\" target=\"_parent\"><img src=\"https://colab.research.google.com/assets/colab-badge.svg\" alt=\"Open In Colab\"/></a>"
      ]
    },
    {
      "cell_type": "code",
      "execution_count": null,
      "metadata": {
        "colab": {
          "base_uri": "https://localhost:8080/"
        },
        "id": "bQkVhbtQ_dNY",
        "outputId": "83694da7-1aae-43ab-9fd2-e24bcd769c66"
      },
      "outputs": [
        {
          "output_type": "stream",
          "name": "stdout",
          "text": [
            "['puppy', 'priya', 1, 3, 'vishu']\n"
          ]
        }
      ],
      "source": [
        "a=[\"puppy\",\"priya\",1,3]\n",
        "a.append(\"vishu\")\n",
        "print(a)"
      ]
    },
    {
      "cell_type": "code",
      "source": [
        "h=[1,2,3,4,5,]\n",
        "h.clear()\n",
        "print(h)"
      ],
      "metadata": {
        "colab": {
          "base_uri": "https://localhost:8080/"
        },
        "id": "ObtQNuh1_mU2",
        "outputId": "93c4eb9a-049c-4356-e4a5-74df7bb22856"
      },
      "execution_count": null,
      "outputs": [
        {
          "output_type": "stream",
          "name": "stdout",
          "text": [
            "[]\n"
          ]
        }
      ]
    },
    {
      "cell_type": "code",
      "source": [
        "g=[9,10,7,\"vishu\"]\n",
        "g.copy()\n",
        "print(g)"
      ],
      "metadata": {
        "colab": {
          "base_uri": "https://localhost:8080/"
        },
        "id": "GPYmy9lk_sV0",
        "outputId": "419ffc4d-422c-4c52-8852-33275df93e84"
      },
      "execution_count": null,
      "outputs": [
        {
          "output_type": "stream",
          "name": "stdout",
          "text": [
            "[9, 10, 7, 'vishu']\n"
          ]
        }
      ]
    },
    {
      "cell_type": "code",
      "source": [
        "fruits = [\"apple\", \"banana\", \"cherry\"]\n",
        "\n",
        "x = fruits.count(\"banana\")\n",
        "\n",
        "print(x)"
      ],
      "metadata": {
        "colab": {
          "base_uri": "https://localhost:8080/"
        },
        "id": "15Kk7aIB_3i5",
        "outputId": "7cbe63e6-75ee-4f3a-c632-6004c455ca77"
      },
      "execution_count": null,
      "outputs": [
        {
          "output_type": "stream",
          "name": "stdout",
          "text": [
            "1\n"
          ]
        }
      ]
    },
    {
      "cell_type": "code",
      "source": [
        "m=[\"telugu\", \"english\",\"hindi\"]\n",
        "n=[\"dog\",12,6,]\n",
        "m.extend(n)\n",
        "print(m)"
      ],
      "metadata": {
        "colab": {
          "base_uri": "https://localhost:8080/"
        },
        "id": "l43-llH3_6mE",
        "outputId": "a6705497-48c5-4184-d01d-2b3d14efd2a7"
      },
      "execution_count": null,
      "outputs": [
        {
          "output_type": "stream",
          "name": "stdout",
          "text": [
            "['telugu', 'english', 'hindi', 'dog', 12, 6]\n"
          ]
        }
      ]
    },
    {
      "cell_type": "code",
      "source": [
        "vishu=[2,3,4,5,6,7,]\n",
        "x = vishu.index(7)\n",
        "print(x)"
      ],
      "metadata": {
        "colab": {
          "base_uri": "https://localhost:8080/"
        },
        "id": "oMnMaC-IAQsT",
        "outputId": "de298084-f6d8-400f-fe7e-d28ab834a328"
      },
      "execution_count": null,
      "outputs": [
        {
          "output_type": "stream",
          "name": "stdout",
          "text": [
            "5\n"
          ]
        }
      ]
    },
    {
      "cell_type": "code",
      "source": [
        "fruits = ['apple', 'banana', 'cherry']\n",
        "\n",
        "fruits.insert(1, \"mango\")\n",
        "\n",
        "print(fruits)"
      ],
      "metadata": {
        "colab": {
          "base_uri": "https://localhost:8080/"
        },
        "id": "rASkEMsIAdBW",
        "outputId": "f766be4f-eb5c-4365-fe08-ed1ca5eb05db"
      },
      "execution_count": null,
      "outputs": [
        {
          "output_type": "stream",
          "name": "stdout",
          "text": [
            "['apple', 'mango', 'banana', 'cherry']\n"
          ]
        }
      ]
    },
    {
      "cell_type": "code",
      "source": [
        "s=[7,8,9,0,6,5,3]\n",
        "s.pop(4)\n",
        "print(s)"
      ],
      "metadata": {
        "colab": {
          "base_uri": "https://localhost:8080/"
        },
        "id": "RGHiSaibAmXs",
        "outputId": "b647dc3a-757c-43c0-c858-18f2c7d10ecb"
      },
      "execution_count": null,
      "outputs": [
        {
          "output_type": "stream",
          "name": "stdout",
          "text": [
            "[7, 8, 9, 0, 5, 3]\n"
          ]
        }
      ]
    },
    {
      "cell_type": "code",
      "source": [
        "q=[\"vishu\",\"puppy\",\"shanthi\"]\n",
        "q.remove(\"puppy\")\n",
        "print(q)"
      ],
      "metadata": {
        "colab": {
          "base_uri": "https://localhost:8080/"
        },
        "id": "eZAElanuBOz2",
        "outputId": "d1f88388-2b08-4cff-84e9-d5b01128fcfb"
      },
      "execution_count": null,
      "outputs": [
        {
          "output_type": "stream",
          "name": "stdout",
          "text": [
            "['vishu', 'shanthi']\n"
          ]
        }
      ]
    },
    {
      "cell_type": "code",
      "source": [
        "e=[0,9,8,7,6,5,4,3,2,1]\n",
        "e.reverse()\n",
        "print(e)"
      ],
      "metadata": {
        "colab": {
          "base_uri": "https://localhost:8080/"
        },
        "id": "4oUQdi1WBbsx",
        "outputId": "8b60fb91-b0e3-485f-c777-8fb281652d16"
      },
      "execution_count": null,
      "outputs": [
        {
          "output_type": "stream",
          "name": "stdout",
          "text": [
            "[1, 2, 3, 4, 5, 6, 7, 8, 9, 0]\n"
          ]
        }
      ]
    },
    {
      "cell_type": "code",
      "source": [
        "y=[\"run\",\"egg\",\"apple\",\"cherry\"]\n",
        "y.sort()\n",
        "print(y)"
      ],
      "metadata": {
        "colab": {
          "base_uri": "https://localhost:8080/"
        },
        "id": "4Lk4f5NUBftm",
        "outputId": "abd362e3-3446-40e4-a6dd-4732b7b920b0"
      },
      "execution_count": null,
      "outputs": [
        {
          "output_type": "stream",
          "name": "stdout",
          "text": [
            "['apple', 'cherry', 'egg', 'run']\n"
          ]
        }
      ]
    },
    {
      "cell_type": "code",
      "source": [
        "c={\"apple\":6,\"word\":9}\n",
        "print(c.keys())\n",
        "print(c.items())\n",
        "print(c.values())\n",
        "print(c)\n",
        "print(type(c))\n",
        "print(c.pop(\"apple\"))\n",
        "print(c.update({\"course\":5}))"
      ],
      "metadata": {
        "colab": {
          "base_uri": "https://localhost:8080/"
        },
        "id": "fwU4jIU7BzqY",
        "outputId": "df60157d-bac1-4c53-f5dd-d8c620b822b4"
      },
      "execution_count": null,
      "outputs": [
        {
          "output_type": "stream",
          "name": "stdout",
          "text": [
            "dict_keys(['apple', 'word'])\n",
            "dict_items([('apple', 6), ('word', 9)])\n",
            "dict_values([6, 9])\n",
            "{'apple': 6, 'word': 9}\n",
            "<class 'dict'>\n",
            "6\n",
            "None\n"
          ]
        }
      ]
    },
    {
      "cell_type": "code",
      "source": [
        "d={7,6,5,9}\n",
        "print(d)\n",
        "print(type(d))"
      ],
      "metadata": {
        "colab": {
          "base_uri": "https://localhost:8080/"
        },
        "id": "HmS0FkhdB3Fl",
        "outputId": "875d022d-69d3-4a48-b68b-4982ebd5998f"
      },
      "execution_count": null,
      "outputs": [
        {
          "output_type": "stream",
          "name": "stdout",
          "text": [
            "{9, 5, 6, 7}\n",
            "<class 'set'>\n"
          ]
        }
      ]
    },
    {
      "cell_type": "code",
      "source": [
        "l=(1,2,3,4,7)\n",
        "print(l)\n",
        "print(type(l))"
      ],
      "metadata": {
        "id": "AF_0urkVB5zP",
        "outputId": "6fe47011-5918-434b-c612-aff890fc197b",
        "colab": {
          "base_uri": "https://localhost:8080/"
        }
      },
      "execution_count": null,
      "outputs": [
        {
          "output_type": "stream",
          "name": "stdout",
          "text": [
            "(1, 2, 3, 4, 7)\n",
            "<class 'tuple'>\n"
          ]
        }
      ]
    }
  ]
}